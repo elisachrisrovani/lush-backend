{
 "cells": [
  {
   "cell_type": "code",
   "execution_count": 37,
   "id": "14cdb179-4f41-41af-a237-771d88a00e41",
   "metadata": {
    "tags": []
   },
   "outputs": [],
   "source": [
    "# Import loibraries\n",
    "import pandas as pd\n",
    "import json\n",
    "\n",
    "# Read in file\n",
    "with open('in/in.json', 'r') as f:\n",
    "    file_in = f.read()\n",
    "\n",
    "# Convert to json\n",
    "file_in_json = json.loads(file_in)\n",
    "\n",
    "# Convert to dataframe\n",
    "pd_in = pd.json_normalize(file_in_json)\n",
    "\n",
    "# Predict\n",
    "prod_id_pred = 881331\n",
    "\n",
    "# Read all dataset\n",
    "pd_out = pd.read_csv('data/dataset.csv')\n",
    "\n",
    "# Lookup to for predicted value\n",
    "pd_out_pred = pd_out[pd_out.product_id == prod_id_pred]\n",
    "\n",
    "# Convert to json\n",
    "file_out_json = pd_out_pred.to_json()\n",
    "\n",
    "# Save the file\n",
    "with open('out/out.json', 'w') as f:\n",
    "    f.write(file_out_json)"
   ]
  },
  {
   "cell_type": "code",
   "execution_count": null,
   "id": "64b736ca-5870-4c62-8c28-1f0a4ee6e9cb",
   "metadata": {},
   "outputs": [],
   "source": []
  }
 ],
 "metadata": {
  "kernelspec": {
   "display_name": "Python 3 (ipykernel)",
   "language": "python",
   "name": "python3"
  },
  "language_info": {
   "codemirror_mode": {
    "name": "ipython",
    "version": 3
   },
   "file_extension": ".py",
   "mimetype": "text/x-python",
   "name": "python",
   "nbconvert_exporter": "python",
   "pygments_lexer": "ipython3",
   "version": "3.9.13"
  }
 },
 "nbformat": 4,
 "nbformat_minor": 5
}
